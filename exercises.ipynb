{
 "cells": [
  {
   "cell_type": "markdown",
   "id": "408b2ce2",
   "metadata": {},
   "source": [
    "# Exercises"
   ]
  },
  {
   "cell_type": "code",
   "execution_count": 4,
   "id": "8be08eaa",
   "metadata": {},
   "outputs": [],
   "source": [
    "import math\n",
    "import time"
   ]
  },
  {
   "cell_type": "markdown",
   "id": "d9677bde",
   "metadata": {},
   "source": [
    "## Chapter 1"
   ]
  },
  {
   "cell_type": "markdown",
   "id": "6383aa61",
   "metadata": {},
   "source": [
    "1. What is the type of the value of the following expressions? Make your best guess for each one, and then use `type` to find out."
   ]
  },
  {
   "cell_type": "markdown",
   "id": "a5a7fefa",
   "metadata": {},
   "source": [
    "* `765` integer. yes\n",
    "* `2.718` float. yes\n",
    "* `'2 pi'` string. yes\n",
    "* `abs(-7)` integer. yes\n",
    "* `abs(-7.0)` integer. no, é float.\n",
    "* `abs` function. half, o certo é \"builtin_function_or_method\"\n",
    "* `int`integer. no, seria \"type\"\n",
    "* `type`type. yes"
   ]
  },
  {
   "cell_type": "markdown",
   "id": "38ca6c57",
   "metadata": {},
   "source": [
    "2. The following questions give you a chance to practice writing arithmetic expressions."
   ]
  },
  {
   "cell_type": "code",
   "execution_count": null,
   "id": "60353503",
   "metadata": {},
   "outputs": [],
   "source": [
    "#1.  How many seconds are there in 42 minutes 42 seconds?\n",
    "\n",
    "seconds = 42\n",
    "minutes = 42\n",
    "total_seconds = (minutes * 60) + seconds\n",
    "\n",
    "print(\"Total de segundos:\", total_seconds)\n"
   ]
  },
  {
   "cell_type": "code",
   "execution_count": null,
   "id": "2966d221",
   "metadata": {},
   "outputs": [],
   "source": [
    "#2. How many miles are there in 10 kilometers? Hint: there are 1.61 kilometers in a mile.\n",
    "\n",
    "kilometers = 10\n",
    "miles_to_kilometers = 1.61\n",
    "distance_miles = kilometers / miles_to_kilometers \n",
    "\n",
    "print(\"Total miles:\", round(distance_miles, 3))"
   ]
  },
  {
   "cell_type": "code",
   "execution_count": null,
   "id": "8019b6ee",
   "metadata": {},
   "outputs": [],
   "source": [
    "#3. If you run a 10 kilometer race in 42 minutes 42 seconds, what is your average pace in seconds per mile?\n",
    "\n",
    "# total_seconds from question 1 and distance_miles from question 2\n",
    "pace_seconds_per_mile = round(total_seconds / distance_miles, 2)\n",
    "\n",
    "print(f\"Average pace: {pace_seconds_per_mile} seconds per mile\")"
   ]
  },
  {
   "cell_type": "code",
   "execution_count": null,
   "id": "f192dc07",
   "metadata": {},
   "outputs": [],
   "source": [
    "#4. What is your average pace in minutes and seconds per mile?\n",
    "\n",
    "#pace_seconds_per_mile is from question 3\n",
    "minutes = int(pace_seconds_per_mile // 60)\n",
    "seconds = round(pace_seconds_per_mile % 60)\n",
    "\n",
    "print(f\"Average pace: {minutes} minutes and {seconds} seconds per mile\") "
   ]
  },
  {
   "cell_type": "code",
   "execution_count": null,
   "id": "684118d5",
   "metadata": {},
   "outputs": [],
   "source": [
    "#5.What is your average speed in miles per hour?\n",
    "\n",
    "#Total_seconds from question 1 and distance_miles from question 2\n",
    "hours = total_seconds / 3600 #Converte segundos para horas\n",
    "average_speed_mph = distance_miles / hours\n",
    "\n",
    "print(f\"average speed is {round(average_speed_mph, 2)} miles per hour\")  "
   ]
  },
  {
   "cell_type": "markdown",
   "id": "633ae2f3",
   "metadata": {},
   "source": [
    "## Chapter 2"
   ]
  },
  {
   "cell_type": "markdown",
   "id": "0865fdbb",
   "metadata": {},
   "source": [
    "0. Making errors on purpose\n",
    "    - `n = 17` is legal but `17 = n` is a SyntaxError \"cannot assign to literal\"\n",
    "    - `x = y = 1` is legal\n",
    "    - using a `;` actually happens nothing? \n",
    "    - Using the name fro ma module wrong comes a \"NameError\" "
   ]
  },
  {
   "cell_type": "markdown",
   "id": "07b237bd",
   "metadata": {},
   "source": [
    "##### Practice using the Python interpreter as a calculator:\n"
   ]
  },
  {
   "cell_type": "markdown",
   "id": "1704e5f1",
   "metadata": {},
   "source": [
    "1. The volume of a sphere with radius $r$ is $\\frac{4}{3} \\pi r^3$.\n",
    "What is the volume of a sphere with radius 5?\n",
    "\n",
    "    Start with a variable named `radius` and then assign the result to a variable named `volume`. Display the result. Add comments to indicate that `radius` is in centimeters and `volume` in cubic centimeters."
   ]
  },
  {
   "cell_type": "code",
   "execution_count": 11,
   "id": "32bb05b4",
   "metadata": {},
   "outputs": [
    {
     "name": "stdout",
     "output_type": "stream",
     "text": [
      "523.599\n"
     ]
    }
   ],
   "source": [
    "r = 5 #radius in centimeters\n",
    "v = (4/3) * math.pi * (r ** 3) #volume in cubic centimeters\n",
    "\n",
    "print(round(v,3))"
   ]
  },
  {
   "cell_type": "markdown",
   "id": "8809c70b",
   "metadata": {},
   "source": [
    "2. A rule of trigonometry says that for any value of $x$, $(\\cos x)^2 + (\\sin x)^2 = 1$. Let's see if it's true for a specific value of $x$ like 42.\n",
    "Create a variable named `x` with this value.\n",
    "\n",
    "    Then use `math.cos` and `math.sin` to compute the sine and cosine of $x$, and the sum of their squared. The result should be close to 1. It might not be exactly 1 because floating-point arithmetic is not exact---it is only approximately correct."
   ]
  },
  {
   "cell_type": "code",
   "execution_count": null,
   "id": "eaeb8ace",
   "metadata": {},
   "outputs": [],
   "source": [
    "\n",
    "x = 42\n",
    "result = math.cos(x)**2 + math.sin(x)**2\n",
    "\n",
    "print(f\"{result:.0f}\")"
   ]
  },
  {
   "cell_type": "markdown",
   "id": "3197fbe4",
   "metadata": {},
   "source": [
    "3. In addition to `pi`, the other variable defined in the `math` module is `e`, which represents the base of the natural logarithm, written in math notation as $e$. If you are not familiar with this value, ask a virtual assistant \"What is `math.e`?\" Now let's compute $e^2$ three ways: \n",
    "    * Use `math.e` and the exponentiation operator (`**`).\n",
    "\n",
    "    * Use `math.pow` to raise `math.e` to the power `2`.\n",
    "\n",
    "    * Use `math.exp`, which takes as an argument a value, $x$, and computes $e^x$.\n",
    "\n",
    "    You might notice that the last result is slightly different from the other two. See if you can find out which is correct."
   ]
  },
  {
   "cell_type": "code",
   "execution_count": null,
   "id": "c369b2fd",
   "metadata": {},
   "outputs": [],
   "source": [
    "first = math.e ** 2\n",
    "second = math.pow(math.e, 2)\n",
    "third = math.exp(2)\n",
    "\n",
    "print (f\"e^2: {first} \\npow(2): {second} \\nexp: {third} \\n \")"
   ]
  },
  {
   "cell_type": "markdown",
   "id": "895446f7",
   "metadata": {},
   "source": [
    "## Capitulo 3"
   ]
  },
  {
   "cell_type": "markdown",
   "id": "f71b3f8f",
   "metadata": {},
   "source": [
    "1. Write a function named `print_right` that takes a string named `text` as a parameter and prints the string with enough leading spaces that the last letter of the string is in the 40th column of the display."
   ]
  },
  {
   "cell_type": "code",
   "execution_count": null,
   "id": "49dd2fb4",
   "metadata": {},
   "outputs": [],
   "source": [
    "def print_right(text):\n",
    "    espaco = 40 - len(text)\n",
    "    print(\" \" * espaco + text)\n",
    "\n",
    "\n",
    "print_right(\"Monty\")\n",
    "print_right(\"Python's\")\n",
    "print_right(\"Flying Circus\")"
   ]
  },
  {
   "cell_type": "markdown",
   "id": "65f5c1f1",
   "metadata": {},
   "source": [
    "2. Write a function called `triangle` that takes a string and an integer and draws a pyramid with the given height, made up using copies of the string. Here's an example of a pyramid with `5` levels, using the string `'L'`."
   ]
  },
  {
   "cell_type": "code",
   "execution_count": null,
   "id": "726a005d",
   "metadata": {},
   "outputs": [],
   "source": [
    "def triangle(string, x):\n",
    "    for i in range(x):\n",
    "        space = x - i - 1\n",
    "        repeat = 2 * i + 1\n",
    "        line = (' ' * space) + (string * repeat)\n",
    "        print(line)\n",
    "        \n",
    "triangle('L', 5)    "
   ]
  },
  {
   "cell_type": "markdown",
   "id": "6c6f85ec",
   "metadata": {},
   "source": [
    "3. Write a function called `rectangle` that takes a string and two integers and draws a rectangle with the given width and height, made up using copies of the string. Here's an example of a rectangle with width `5` and height `4`, made up of the string `'H'`."
   ]
  },
  {
   "cell_type": "code",
   "execution_count": null,
   "id": "d56ef804",
   "metadata": {},
   "outputs": [],
   "source": [
    "def rectangle(string, x, y):\n",
    "    for i in range(y):\n",
    "        print(string * x)\n",
    "        \n",
    "rectangle('H', 5, 4)\n",
    "\n",
    "# def rectangle(string, width, height):\n",
    "#     # Caso altura 0\n",
    "#     if height == 0:\n",
    "#         return\n",
    "    \n",
    "#     # Linha superior (sempre existe)\n",
    "#     print(string * width)\n",
    "    \n",
    "#     # Linhas do meio (se altura > 2)\n",
    "#     for i in range(height - 2):  # -2 porque já imprimimos topo e fundo\n",
    "#         if width == 1:\n",
    "#             print(string)\n",
    "#         else:\n",
    "#             print(string + \" \" * (width - 2) + string)\n",
    "    \n",
    "#     # Linha inferior (se altura > 1)\n",
    "#     if height > 1:\n",
    "#         print(string * width)\n",
    "        \n",
    "\n",
    "# rectangle(\n",
    "#     input(\"Character: \"),\n",
    "#     int(input(\"Largura: \")),\n",
    "#     int(input(\"Altura: \"))\n",
    "# )\n"
   ]
  },
  {
   "cell_type": "markdown",
   "id": "d8284d1f",
   "metadata": {},
   "source": [
    "4. Write a function called `bottle_verse` that takes a number as a parameter and displays the verse that starts with the given number of bottles.\n",
    "\n",
    "    The song \"99 Bottles of Beer\" starts with this verse:\n",
    "\n",
    "    > 99 bottles of beer on the wall  \n",
    "    > 99 bottles of beer  \n",
    "    > Take one down, pass it around  \n",
    "    > 98 bottles of beer on the wall  \n",
    "\n",
    "    Then the second verse is the same, except that it starts with 98 bottles and ends with 97. The song continues -- for a very long time -- until there are 0 bottles of beer.\n",
    "\n",
    "    Hint: Consider starting with a function that can print the first, second, or last line of the verse, and then use it to write `bottle_verse`."
   ]
  },
  {
   "cell_type": "code",
   "execution_count": null,
   "id": "ea04b42a",
   "metadata": {},
   "outputs": [],
   "source": [
    "def bottle_str(n):\n",
    "    if n == 0:\n",
    "        return \"no more bottles\"\n",
    "    elif n == 1:\n",
    "        return \"1 bottle\"\n",
    "    else:\n",
    "        return f\"{n} bottles\"\n",
    "\n",
    "def bottle_verse(n):\n",
    "    line1 = f\"{bottle_str(n).capitalize()} of beer on the wall\"\n",
    "    line2 = f\"{bottle_str(n)} of beer\"\n",
    "    \n",
    "    if n > 0:\n",
    "        line3 = \"Take one down, pass it around\"\n",
    "        next_n = n - 1\n",
    "    else:\n",
    "        line3 = \"Go to the store and buy some more\"\n",
    "        next_n = 99\n",
    "        \n",
    "    line4 = f'{bottle_str(next_n)} of beer on the wall'\n",
    "    print(f\"{line1}\\n{line2}\\n{line3}\\n{line4}\\n\")\n",
    "    \n",
    "    \n",
    "def sing_song():\n",
    "    for num in range(99, -1, -1):\n",
    "        bottle_verse(num)\n",
    "        time.sleep(1)\n",
    "        \n",
    "sing_song()"
   ]
  },
  {
   "cell_type": "code",
   "execution_count": 81,
   "id": "8f0c39d2",
   "metadata": {},
   "outputs": [
    {
     "name": "stdout",
     "output_type": "stream",
     "text": [
      "2 bottles of beer on the wall\n",
      "2 bottles of beer\n",
      "Take one down, pass it around\n",
      "1 bottle of beer on the wall\n",
      "\n",
      "1 bottle of beer on the wall\n",
      "1 bottle of beer\n",
      "Take one down, pass it around\n",
      "No more bottles of beer on the wall\n",
      "\n"
     ]
    }
   ],
   "source": [
    "def bottle_verse(x):\n",
    "    beer = x\n",
    "    for _ in range(x):\n",
    "        s = '' if beer == 1 else 's'  # Plural ou singular?\n",
    "        print(f\"{beer} bottle{s} of beer on the wall\")\n",
    "        print(f\"{beer} bottle{s} of beer\")\n",
    "        print(\"Take one down, pass it around\")\n",
    "        beer -= 1\n",
    "        s_next = '' if beer == 1 else 's'\n",
    "        if beer >= 0:\n",
    "            print(f\"{beer if beer > 0 else 'No more'} bottle{s_next} of beer on the wall\\n\")\n",
    "\n",
    "bottle_verse(2)"
   ]
  },
  {
   "cell_type": "markdown",
   "id": "cdaf7c5f",
   "metadata": {},
   "source": [
    "## Capitulo 4"
   ]
  },
  {
   "cell_type": "markdown",
   "id": "4737cc66",
   "metadata": {},
   "source": [
    "## Capitulo 5"
   ]
  },
  {
   "cell_type": "markdown",
   "id": "febd7ae4",
   "metadata": {},
   "source": [
    "## Capitulo 6"
   ]
  }
 ],
 "metadata": {
  "kernelspec": {
   "display_name": ".venv",
   "language": "python",
   "name": "python3"
  },
  "language_info": {
   "codemirror_mode": {
    "name": "ipython",
    "version": 3
   },
   "file_extension": ".py",
   "mimetype": "text/x-python",
   "name": "python",
   "nbconvert_exporter": "python",
   "pygments_lexer": "ipython3",
   "version": "3.12.3"
  }
 },
 "nbformat": 4,
 "nbformat_minor": 5
}
