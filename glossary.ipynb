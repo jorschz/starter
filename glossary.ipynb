{
 "cells": [
  {
   "cell_type": "markdown",
   "id": "4975c9ef",
   "metadata": {},
   "source": [
    "## Glossary"
   ]
  },
  {
   "cell_type": "markdown",
   "id": "38a973b3",
   "metadata": {},
   "source": [
    "### Capitulo 1\n"
   ]
  },
  {
   "cell_type": "markdown",
   "id": "d7143562",
   "metadata": {},
   "source": [
    "\n",
    "**arithmetic operator:**\n",
    "Um simbolo, como `+` e `*`, que denota uma operação aritimetica como adição ou multiplicação\n",
    "\n",
    "**integer:**\n",
    "Um tipo que representa numeros com nenhuma parte decimal ou fracional.\n",
    "\n",
    "**floating-point:**\n",
    "Um tipo que representa inteiros e numeros com partes decimais\n",
    "\n",
    "**integer division:**\n",
    "Um operador, `//`, que divide dois numeros e o arredonda para baixo como um inteiro.\n",
    "\n",
    "**expression:**\n",
    "A combinação de variaveis, valores e operatores\n",
    "\n",
    "**value:**\n",
    "Um inteiro, numero de ponto flutuante ou string -- ou outros tipos de valores.\n",
    "\n",
    "**function:**\n",
    "Um sequencia de nomeada de declarações que performa alguma operação util. Funções podem ou não receber argumentos e podem ou não produzir resultados\n",
    "\n",
    "**function call:**\n",
    "Uma expressão -- ou parte de uma expressão -- que executa uma função. Consiste no nome da função seguido por uma lista de argumentos entre parênteses.\n",
    "\n",
    "**syntax error:**\n",
    "Um erro em um programa que o torna impossível de analisar e, portanto, impossível de executar.\n",
    "\n",
    "**string:**\n",
    "Um tipo que representa uma sequencia de caracteres\n",
    "\n",
    "**concatenation:**\n",
    "Unindo duas cordas de ponta a ponta.\n",
    "\n",
    "**type:**\n",
    "Uma categoria de valores. Os tipos apresentados até agora são inteiros (tipo `int`), numero de ponto flutuante (tipo `float`), e strings (tipo `str`)\n",
    "\n",
    "\n",
    "**operand:**\n",
    "Um dos valores nos quais um operador opera.\n",
    "\n",
    "**natural language:**\n",
    "Qualquer uma das línguas que as pessoas falam e que evoluíram naturalmente.\n",
    "\n",
    "**formal language:**\n",
    "Qualquer uma das linguagens que as pessoas projetaram para propósitos específicos, como representar ideias matemáticas ou programas de computador. Todas as linguagens de programaçaõ são linguagens formais.\n",
    "\n",
    "**bug:**\n",
    "Um erro em um programa\n",
    "\n",
    "**debugging:**\n",
    "O processo de procurar e resolver erros"
   ]
  },
  {
   "cell_type": "markdown",
   "id": "d66f9cc0",
   "metadata": {},
   "source": [
    "### Capitulo 2"
   ]
  },
  {
   "cell_type": "markdown",
   "id": "4efff016",
   "metadata": {},
   "source": [
    "**variable:**\n",
    "A name that refers to a value.\n",
    "\n",
    "**assignment statement:**\n",
    "A statement that assigns a value to a variable.\n",
    "\n",
    "**state diagram:**\n",
    "A graphical representation of a set of variables and the values they refer to.\n",
    "\n",
    "**keyword:**\n",
    "A special word used to specify the structure of a program.\n",
    "\n",
    "**import statement:**\n",
    "A statement that reads a module file so we can use the variables and functions it contains.\n",
    "\n",
    "**module:**\n",
    "A file that contains Python code, including function definitions and sometimes other statements.\n",
    "\n",
    "**dot operator:**\n",
    "The operator, `.`, used to access a function in another module by specifying the module name followed by a dot and the function name.\n",
    "\n",
    "**evaluate:**\n",
    "Perform the operations in an expression in order to compute a value.\n",
    "\n",
    "**statement:**\n",
    "One or more lines of code that represent a command or action.\n",
    "\n",
    "**execute:**\n",
    "Run a statement and do what it says.\n",
    "\n",
    "**argument:**\n",
    "A value provided to a function when the function is called.\n",
    "\n",
    "**comment:**\n",
    "Text included in a program that provides information about the program but has no effect on its execution.\n",
    "\n",
    "**runtime error:**\n",
    "An error that causes a program to display an error message and exit.\n",
    "\n",
    "**exception:**\n",
    "An error that is detected while the program is running.\n",
    "\n",
    "**semantic error:**\n",
    "An error that causes a program to do the wrong thing, but not to display an error message."
   ]
  },
  {
   "cell_type": "markdown",
   "id": "a3686cc6",
   "metadata": {},
   "source": [
    "### Capitulo 3"
   ]
  },
  {
   "cell_type": "markdown",
   "id": "002a00bc",
   "metadata": {},
   "source": [
    "**function definition:**\n",
    "A statement that creates a function.\n",
    "\n",
    "**header:**\n",
    " The first line of a function definition.\n",
    "\n",
    "**body:**\n",
    " The sequence of statements inside a function definition.\n",
    "\n",
    "**function object:**\n",
    "A value created by a function definition.\n",
    "The name of the function is a variable that refers to a function object.\n",
    "\n",
    "**parameter:**\n",
    " A name used inside a function to refer to the value passed as an argument.\n",
    "\n",
    "**loop:**\n",
    " A statement that runs one or more statements, often repeatedly.\n",
    "\n",
    "**local variable:**\n",
    "A variable defined inside a function, and which can only be accessed inside the function.\n",
    "\n",
    "**stack diagram:**\n",
    "A graphical representation of a stack of functions, their variables, and the values they refer to.\n",
    "\n",
    "**frame:**\n",
    " A box in a stack diagram that represents a function call.\n",
    " It contains the local variables and parameters of the function.\n",
    "\n",
    "**traceback:**\n",
    " A list of the functions that are executing, printed when an exception occurs."
   ]
  },
  {
   "cell_type": "markdown",
   "id": "8f1fc3f2",
   "metadata": {},
   "source": [
    "### Capitulo 4"
   ]
  },
  {
   "cell_type": "markdown",
   "id": "4ecf98d9",
   "metadata": {},
   "source": [
    "### Capitulo 5"
   ]
  },
  {
   "cell_type": "markdown",
   "id": "a0bc33d4",
   "metadata": {},
   "source": [
    "### Capitulo 6"
   ]
  },
  {
   "cell_type": "markdown",
   "id": "ba2fbeaf",
   "metadata": {},
   "source": [
    "### Capitulo 7"
   ]
  }
 ],
 "metadata": {
  "language_info": {
   "name": "python"
  }
 },
 "nbformat": 4,
 "nbformat_minor": 5
}
