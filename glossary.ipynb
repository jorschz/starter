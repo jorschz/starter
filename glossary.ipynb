{
 "cells": [
  {
   "cell_type": "markdown",
   "id": "4975c9ef",
   "metadata": {},
   "source": [
    "## Glossary"
   ]
  },
  {
   "cell_type": "markdown",
   "id": "38a973b3",
   "metadata": {},
   "source": [
    "### Capitulo 1\n"
   ]
  },
  {
   "cell_type": "markdown",
   "id": "d7143562",
   "metadata": {},
   "source": [
    "\n",
    "**arithmetic operator:**\n",
    "Um simbolo, como `+` e `*`, que denota uma operação aritimetica como adição ou multiplicação\n",
    "\n",
    "**integer:**\n",
    "Um tipo que representa numeros com nenhuma parte decimal ou fracional.\n",
    "\n",
    "**floating-point:**\n",
    "Um tipo que representa inteiros e numeros com partes decimais\n",
    "\n",
    "**integer division:**\n",
    "Um operador, `//`, que divide dois numeros e o arredonda para baixo como um inteiro.\n",
    "\n",
    "**expression:**\n",
    "A combinação de variaveis, valores e operatores\n",
    "\n",
    "**value:**\n",
    "Um inteiro, numero de ponto flutuante ou string -- ou outros tipos de valores.\n",
    "\n",
    "**function:**\n",
    "Um sequencia de nomeada de declarações que performa alguma operação util. Funções podem ou não receber argumentos e podem ou não produzir resultados\n",
    "\n",
    "**function call:**\n",
    "Uma expressão -- ou parte de uma expressão -- que executa uma função. Consiste no nome da função seguido por uma lista de argumentos entre parênteses.\n",
    "\n",
    "**syntax error:**\n",
    "Um erro em um programa que o torna impossível de analisar e, portanto, impossível de executar.\n",
    "\n",
    "**string:**\n",
    "Um tipo que representa uma sequencia de caracteres\n",
    "\n",
    "**concatenation:**\n",
    "Unindo duas cordas de ponta a ponta.\n",
    "\n",
    "**type:**\n",
    "Uma categoria de valores. Os tipos apresentados até agora são inteiros (tipo `int`), numero de ponto flutuante (tipo `float`), e strings (tipo `str`)\n",
    "\n",
    "\n",
    "**operand:**\n",
    "Um dos valores nos quais um operador opera.\n",
    "\n",
    "**natural language:**\n",
    "Qualquer uma das línguas que as pessoas falam e que evoluíram naturalmente.\n",
    "\n",
    "**formal language:**\n",
    "Qualquer uma das linguagens que as pessoas projetaram para propósitos específicos, como representar ideias matemáticas ou programas de computador. Todas as linguagens de programaçaõ são linguagens formais.\n",
    "\n",
    "**bug:**\n",
    "Um erro em um programa\n",
    "\n",
    "**debugging:**\n",
    "O processo de procurar e resolver erros"
   ]
  },
  {
   "cell_type": "markdown",
   "id": "d66f9cc0",
   "metadata": {},
   "source": [
    "### Capitulo 2"
   ]
  },
  {
   "cell_type": "markdown",
   "id": "4efff016",
   "metadata": {},
   "source": [
    "**variable:**\n",
    "Um nome que referencia a um valor\n",
    "\n",
    "**assignment statement:**\n",
    "Um statement que da um valua a uma variavel\n",
    "\n",
    "**state diagram:**\n",
    "Uma representação grafica de um conjunto de variaveis e seus valores para se referenciar \n",
    "\n",
    "**keyword:**\n",
    "Uma palara especial usada para especificar uma estrutura do programa.\n",
    "\n",
    "**import statement:**\n",
    "Um statement que le um arquivo de modulo para que possamos usar as variaves e funções que ele contem\n",
    "\n",
    "**module:**\n",
    "Um arquivo que contem um codigo python, incluindo definições de funções e as vezes statements\n",
    "A file that contains Python code, including function definitions and sometimes other statements.\n",
    "\n",
    "**dot operator:**\n",
    "O operator, `.`, é usado para acessar a função em outro modulo specificando o nome do modulo seguido por um ponto e o nome da função.\n",
    "\n",
    "**evaluate:**\n",
    "Execute as operações em uma expressão para calcular um valor. \n",
    "\n",
    "**statement:**\n",
    "Um ou mais linhas de codigo que representa um comando ou uma ação\n",
    "\n",
    "**execute:**\n",
    "Executa um statement e faz oque ele diz.\n",
    "\n",
    "**argument:**\n",
    "Um valor que se providencia a uma função quando ela é chamada. \n",
    "\n",
    "**comment:**\n",
    "Texto incluido no programa que prove informção sobre o programa mas não tem efeito em sua execução\n",
    "\n",
    "**runtime error:**\n",
    "Um erro que causa o programa a mostrar uma mensagem de erro e parar\n",
    "\n",
    "**exception:**\n",
    "Um erro que é detectado enquando o programa esta sendo executado.\n",
    "\n",
    "**semantic error:**\n",
    "Um erro que causa o programa a fazer algo errado mas não mostra uma mensagem de erro ou para o programa."
   ]
  },
  {
   "cell_type": "markdown",
   "id": "a3686cc6",
   "metadata": {},
   "source": [
    "### Capitulo 3"
   ]
  },
  {
   "cell_type": "markdown",
   "id": "002a00bc",
   "metadata": {},
   "source": [
    "**function definition:**\n",
    "Uma declaração que cria uma função.\n",
    "\n",
    "**header:**\n",
    "A primeira linha de uma definição de função.\n",
    "\n",
    "**body:**\n",
    "A sequência de instruções dentro de uma definição de função.\n",
    "\n",
    "**function object:**\n",
    "Um valor criado por uma definiçaõ de função.\n",
    "\n",
    "**Function Name**\n",
    "O nome da função é uma variável que se refere a um objeto de função.\n",
    "\n",
    "**parameter:**\n",
    "Um nonme usado dentro de uma função que refere ao valor que foi passado como um argumenot.\n",
    "\n",
    "**loop:**\n",
    "Uma declaração que executa uma ou mais instruções, geralmente repetidamente.\n",
    "\n",
    "**local variable:**\n",
    "Uma variael definida dentro de uma função, que então só pod ser acessada dentro da função\n",
    "\n",
    "**stack diagram:**\n",
    "Uma representação gráfica de uma pilha de funções, suas variáveis e os valores aos quais elas se referem.\n",
    "\n",
    "**frame:**\n",
    "Uma caixa em um diagrama de pilha que representa uma chamada de função.\n",
    "Ela contém as variáveis locais e os parâmetros da função.\n",
    "\n",
    "**traceback:**\n",
    "Uma lista das funções que estão sendo executadas, impressas quando ocorre uma exceção."
   ]
  },
  {
   "cell_type": "markdown",
   "id": "8f1fc3f2",
   "metadata": {},
   "source": [
    "### Capitulo 4"
   ]
  },
  {
   "cell_type": "markdown",
   "id": "4ecf98d9",
   "metadata": {},
   "source": [
    "### Capitulo 5"
   ]
  },
  {
   "cell_type": "markdown",
   "id": "a0bc33d4",
   "metadata": {},
   "source": [
    "### Capitulo 6"
   ]
  },
  {
   "cell_type": "markdown",
   "id": "ba2fbeaf",
   "metadata": {},
   "source": [
    "### Capitulo 7"
   ]
  }
 ],
 "metadata": {
  "language_info": {
   "name": "python"
  }
 },
 "nbformat": 4,
 "nbformat_minor": 5
}
