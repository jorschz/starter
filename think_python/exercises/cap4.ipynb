{
 "cells": [
  {
   "cell_type": "markdown",
   "id": "a4a1b72d",
   "metadata": {},
   "source": [
    "# Not Working"
   ]
  },
  {
   "cell_type": "code",
   "execution_count": 12,
   "id": "af23f7ab",
   "metadata": {},
   "outputs": [],
   "source": [
    "from ipyturtle import Turtle\n",
    "import math"
   ]
  },
  {
   "cell_type": "markdown",
   "id": "118736d5",
   "metadata": {},
   "source": [
    "1. Write a function called `rectangle` that draws a rectangle with given side lengths. For example, here's a rectangle that's `80` units wide and `40` units tall."
   ]
  },
  {
   "cell_type": "code",
   "execution_count": 13,
   "id": "bc3cb724",
   "metadata": {},
   "outputs": [
    {
     "data": {
      "application/vnd.jupyter.widget-view+json": {
       "model_id": "29e3f531c8464cd6bc9a64e67946e60f",
       "version_major": 2,
       "version_minor": 0
      },
      "text/plain": [
       "Turtle()"
      ]
     },
     "execution_count": 13,
     "metadata": {},
     "output_type": "execute_result"
    }
   ],
   "source": [
    "def rectangle(t, width, height):\n",
    "    for _ in range(2):\n",
    "        t.forward(width)\n",
    "        t.left(90)\n",
    "        t.forward(height)\n",
    "        t.left(90)\n",
    "\n",
    "t = Turtle()\n",
    "rectangle(t, width=80, height=90)\n",
    "\n",
    "t "
   ]
  },
  {
   "cell_type": "markdown",
   "id": "20f1a4ed",
   "metadata": {},
   "source": [
    "2. Write a function called `rhombus` that draws a rhombus with a given side length and a given interior angle. For example, here's a rhombus with side length `50` and an interior angle of `60` degrees."
   ]
  },
  {
   "cell_type": "code",
   "execution_count": 14,
   "id": "f1bb0525",
   "metadata": {},
   "outputs": [],
   "source": [
    "def rhombus(t, slength, iangle):\n",
    "    for i in range(2):\n",
    "        t.left(iangle)\n",
    "        t.forward(slength)\n",
    "        t.left(180 - iangle)\n",
    "        t.forward(slength)\n",
    "        \n",
    "t = Turtle(width=371, height=184)\n",
    "rhombus(t, slength=80, iangle=90)"
   ]
  },
  {
   "cell_type": "markdown",
   "id": "39899626",
   "metadata": {},
   "source": [
    "3. Now write a more general function called `parallelogram` that draws a quadrilateral with parallel sides. Then rewrite `rectangle` and `rhombus` to use `parallelogram`."
   ]
  },
  {
   "cell_type": "code",
   "execution_count": null,
   "id": "26072665",
   "metadata": {},
   "outputs": [
    {
     "ename": "AttributeError",
     "evalue": "'Turtle' object has no attribute 'jump'",
     "output_type": "error",
     "traceback": [
      "\u001b[31m---------------------------------------------------------------------------\u001b[39m",
      "\u001b[31mAttributeError\u001b[39m                            Traceback (most recent call last)",
      "\u001b[36mCell\u001b[39m\u001b[36m \u001b[39m\u001b[32mIn[15]\u001b[39m\u001b[32m, line 15\u001b[39m\n\u001b[32m     12\u001b[39m \tparallelogram(\u001b[32m50\u001b[39m, \u001b[32m60\u001b[39m, \u001b[32m90\u001b[39m)\n\u001b[32m     14\u001b[39m t = Turtle(width=\u001b[32m400\u001b[39m)\n\u001b[32m---> \u001b[39m\u001b[32m15\u001b[39m \u001b[43mt\u001b[49m\u001b[43m.\u001b[49m\u001b[43mjump\u001b[49m(-\u001b[32m120\u001b[39m)\n\u001b[32m     17\u001b[39m rectangle2()\n\u001b[32m     18\u001b[39m t.jump(\u001b[32m100\u001b[39m)\n",
      "\u001b[31mAttributeError\u001b[39m: 'Turtle' object has no attribute 'jump'"
     ]
    }
   ],
   "source": [
    "def parallelogram(t, side1, side2, angle):\n",
    "\tfor i in range(2):\n",
    "\t\tt.forward(side1)\n",
    "\t\tt.left(angle)\n",
    "\t\tt.forward(side2)\n",
    "\t\tt.left(180-angle)\n",
    "  \n",
    "def rectangle2():\n",
    "\tparallelogram(80, 40, 90)\n",
    " \n",
    "def rhombus2():\n",
    "\tparallelogram(50, 60, 90)\n",
    " \n",
    "t = Turtle(width=400)\n",
    "t.jump(-120)\n",
    "\n",
    "rectangle2()\n",
    "t.jump(100)\n",
    "rhombus2()\n",
    "t.jump(80)\n",
    "parallelogram(80, 50, 60)"
   ]
  },
  {
   "cell_type": "markdown",
   "id": "fed91a16",
   "metadata": {},
   "source": [
    "4. Write an appropriately general set of functions that can draw shapes like this. Hint: Write a function called `triangle` that draws one triangular segment, and then a function called `draw_pie` that uses `triangle`.\n",
    " "
   ]
  },
  {
   "cell_type": "code",
   "execution_count": 16,
   "id": "e66d3a40",
   "metadata": {},
   "outputs": [
    {
     "ename": "TypeError",
     "evalue": "triangle() missing 1 required positional argument: 'angle'",
     "output_type": "error",
     "traceback": [
      "\u001b[31m---------------------------------------------------------------------------\u001b[39m",
      "\u001b[31mTypeError\u001b[39m                                 Traceback (most recent call last)",
      "\u001b[36mCell\u001b[39m\u001b[36m \u001b[39m\u001b[32mIn[16]\u001b[39m\u001b[32m, line 21\u001b[39m\n\u001b[32m     18\u001b[39m     t.left(\u001b[32m180\u001b[39m-angle)\n\u001b[32m     20\u001b[39m t = Turtle()\n\u001b[32m---> \u001b[39m\u001b[32m21\u001b[39m \u001b[43mtriangle\u001b[49m\u001b[43m(\u001b[49m\u001b[32;43m50\u001b[39;49m\u001b[43m,\u001b[49m\u001b[43m \u001b[49m\u001b[32;43m120\u001b[39;49m\u001b[43m)\u001b[49m\n",
      "\u001b[31mTypeError\u001b[39m: triangle() missing 1 required positional argument: 'angle'"
     ]
    }
   ],
   "source": [
    "# Solution goes here\n",
    "\n",
    "# def triangle(side, angle):\n",
    "# \tfor i in range(3):\n",
    "# \t\tforward(side)\n",
    "# \t\tleft(angle)\n",
    "# make_turtle()\n",
    "# triangle(50, 120)\n",
    "\n",
    "def triangle(t, radius, angle):\n",
    "    y = radius * math.sin(angle*math.pi/180)\n",
    "    t.right(angle)\n",
    "    t.forward(radius)\n",
    "    t.left(90+angle)\n",
    "    t.forward(2*y)\n",
    "    t.left(90+angle)\n",
    "    t.forward(radius)\n",
    "    t.left(180-angle)\n",
    "\n",
    "t = Turtle()\n",
    "triangle(50, 120)"
   ]
  },
  {
   "cell_type": "code",
   "execution_count": 17,
   "id": "c1ef6c04",
   "metadata": {},
   "outputs": [],
   "source": [
    "# Solution goes here\n",
    "\n",
    "# def draw_pie(side, angle):\n",
    "# \tfor i in range(6):\n",
    "# \t\ttriangle(side, angle)\n",
    "# \t\tleft(60) \n",
    "# make_turtle()\n",
    "# draw_pie(50,120)\n",
    "\n",
    "def draw_pie(t, n, radius):\n",
    "    angle = 360.0/n\n",
    "    for i in range(n):\n",
    "        triangle(radius, angle/2)\n",
    "        t.left(angle)"
   ]
  },
  {
   "cell_type": "code",
   "execution_count": 18,
   "id": "94df864b",
   "metadata": {},
   "outputs": [
    {
     "ename": "AttributeError",
     "evalue": "'Turtle' object has no attribute 'jump'",
     "output_type": "error",
     "traceback": [
      "\u001b[31m---------------------------------------------------------------------------\u001b[39m",
      "\u001b[31mAttributeError\u001b[39m                            Traceback (most recent call last)",
      "\u001b[36mCell\u001b[39m\u001b[36m \u001b[39m\u001b[32mIn[18]\u001b[39m\u001b[32m, line 2\u001b[39m\n\u001b[32m      1\u001b[39m t = Turtle()\n\u001b[32m----> \u001b[39m\u001b[32m2\u001b[39m \u001b[43mt\u001b[49m\u001b[43m.\u001b[49m\u001b[43mjump\u001b[49m(-\u001b[32m80\u001b[39m)\n\u001b[32m      4\u001b[39m size = \u001b[32m40\u001b[39m\n\u001b[32m      5\u001b[39m draw_pie(\u001b[32m5\u001b[39m, size)\n",
      "\u001b[31mAttributeError\u001b[39m: 'Turtle' object has no attribute 'jump'"
     ]
    }
   ],
   "source": [
    "t = Turtle()\n",
    "t.jump(-80)\n",
    "\n",
    "size = 40\n",
    "draw_pie(5, size)\n",
    "t.jump(2*size)\n",
    "draw_pie(6, size)\n",
    "t.jump(2*size)\n",
    "draw_pie(7, size)"
   ]
  },
  {
   "cell_type": "markdown",
   "id": "f9f6297c",
   "metadata": {},
   "source": [
    "5. Write an appropriately general set of functions that can draw flowers like this. Hint: Use `arc` to write a function called `petal` that draws one flower petal.\n"
   ]
  },
  {
   "cell_type": "code",
   "execution_count": 19,
   "id": "d44737d9",
   "metadata": {},
   "outputs": [],
   "source": [
    "def polyline(t, n, length, angle):\n",
    "    for i in range(n):\n",
    "        t.forward(length)\n",
    "        t.left(angle)\n",
    "        \n",
    "def arc(radius, angle):\n",
    "    arc_length = 2 * math.pi * radius * angle / 360\n",
    "    n = 30\n",
    "    length = arc_length / n\n",
    "    step_angle = angle / n\n",
    "    polyline(n, length, step_angle)"
   ]
  },
  {
   "cell_type": "code",
   "execution_count": 20,
   "id": "66326ba4",
   "metadata": {},
   "outputs": [],
   "source": [
    "# Solution\n",
    "\n",
    "def petal(t, radius,  angle):\n",
    "    for i in range(2):\n",
    "        arc(radius,  angle)\n",
    "        t.left(180 - angle)"
   ]
  },
  {
   "cell_type": "code",
   "execution_count": 21,
   "id": "a69bc36e",
   "metadata": {},
   "outputs": [],
   "source": [
    "#solution\n",
    "\n",
    "def flower(t, n, radius, angle):\n",
    "    for i in range(n):\n",
    "        petal(radius,  angle)\n",
    "        t.left(360.0/n)"
   ]
  },
  {
   "cell_type": "code",
   "execution_count": 22,
   "id": "539839d7",
   "metadata": {},
   "outputs": [
    {
     "ename": "TypeError",
     "evalue": "Turtle.__init__() got an unexpected keyword argument 'auto_render'",
     "output_type": "error",
     "traceback": [
      "\u001b[31m---------------------------------------------------------------------------\u001b[39m",
      "\u001b[31mTypeError\u001b[39m                                 Traceback (most recent call last)",
      "\u001b[36mCell\u001b[39m\u001b[36m \u001b[39m\u001b[32mIn[22]\u001b[39m\u001b[32m, line 1\u001b[39m\n\u001b[32m----> \u001b[39m\u001b[32m1\u001b[39m t = \u001b[43mTurtle\u001b[49m\u001b[43m(\u001b[49m\u001b[43mauto_render\u001b[49m\u001b[43m=\u001b[49m\u001b[38;5;28;43;01mFalse\u001b[39;49;00m\u001b[43m)\u001b[49m\n\u001b[32m      3\u001b[39m t.jump(-\u001b[32m60\u001b[39m)\n\u001b[32m      4\u001b[39m n = \u001b[32m7\u001b[39m\n",
      "\u001b[31mTypeError\u001b[39m: Turtle.__init__() got an unexpected keyword argument 'auto_render'"
     ]
    }
   ],
   "source": [
    "\n",
    "t = Turtle(auto_render=False)\n",
    "\n",
    "t.jump(-60)\n",
    "n = 7\n",
    "radius = 60\n",
    "angle = 60\n",
    "flower(n, radius, angle)\n",
    "\n",
    "t.jump(120)\n",
    "n = 9\n",
    "radius = 40\n",
    "angle = 85\n",
    "flower(n, radius, angle)\n",
    "\n",
    "render()"
   ]
  }
 ],
 "metadata": {
  "kernelspec": {
   "display_name": ".venv",
   "language": "python",
   "name": "python3"
  },
  "language_info": {
   "codemirror_mode": {
    "name": "ipython",
    "version": 3
   },
   "file_extension": ".py",
   "mimetype": "text/x-python",
   "name": "python",
   "nbconvert_exporter": "python",
   "pygments_lexer": "ipython3",
   "version": "3.12.3"
  }
 },
 "nbformat": 4,
 "nbformat_minor": 5
}
