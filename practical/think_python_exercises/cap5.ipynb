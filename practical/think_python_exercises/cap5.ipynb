{
 "cells": [
  {
   "cell_type": "code",
   "execution_count": null,
   "id": "3da74ec2",
   "metadata": {},
   "outputs": [],
   "source": [
    "from time import time"
   ]
  },
  {
   "cell_type": "markdown",
   "id": "20e43cf5",
   "metadata": {},
   "source": [
    "1. The `time` module provides a function, also called `time`, that returns\n",
    "returns the number of seconds since the \"Unix epoch\", which is January 1, 1970, 00:00:00 UTC (Coordinated Universal Time)."
   ]
  },
  {
   "cell_type": "code",
   "execution_count": null,
   "id": "256da761",
   "metadata": {},
   "outputs": [],
   "source": [
    "now = time()\n",
    "now"
   ]
  },
  {
   "cell_type": "code",
   "execution_count": null,
   "id": "ab7d26cb",
   "metadata": {},
   "outputs": [],
   "source": [
    "seconds_per_day = 24 * 60 * 60\n",
    "\n",
    "days = now // seconds_per_day\n",
    "days"
   ]
  },
  {
   "cell_type": "code",
   "execution_count": null,
   "id": "509104a6",
   "metadata": {},
   "outputs": [],
   "source": [
    "remainder = now % seconds_per_day\n",
    "hours = remainder // 3600\n",
    "hours"
   ]
  },
  {
   "cell_type": "code",
   "execution_count": null,
   "id": "dc510ab4",
   "metadata": {},
   "outputs": [],
   "source": [
    "remainder = remainder % 3600\n",
    "minutes = remainder // 60\n",
    "minutes"
   ]
  },
  {
   "cell_type": "code",
   "execution_count": null,
   "id": "52b33455",
   "metadata": {},
   "outputs": [],
   "source": [
    "seconds = remainder % 60\n",
    "seconds"
   ]
  },
  {
   "cell_type": "markdown",
   "id": "ec9dad90",
   "metadata": {},
   "source": [
    "2. If you are given three sticks, you may or may not be able to arrange\n",
    "them in a triangle. For example, if one of the sticks is 12 inches long\n",
    "and the other two are one inch long, you will not be able to get the\n",
    "short sticks to meet in the middle. For any three lengths, there is a\n",
    "test to see if it is possible to form a triangle:\n",
    "\n",
    "\t> If any of the three lengths is greater than the sum of the other two,\n",
    "\t> then you cannot form a triangle. Otherwise, you can. (If the sum of\n",
    "\t> two lengths equals the third, they form what is called a \"degenerate\"\n",
    "\t> triangle.)\n",
    "\n",
    "\tWrite a function named `is_triangle` that takes three integers as\n",
    "\targuments, and that prints either \"Yes\" or \"No\", depending on\n",
    "\twhether you can or cannot form a triangle from sticks with the given\n",
    "\tlengths. Hint: Use a chained conditional."
   ]
  },
  {
   "cell_type": "code",
   "execution_count": null,
   "id": "bca615e1",
   "metadata": {},
   "outputs": [],
   "source": [
    "def is_triangle(x, y, z):\n",
    "    if (z > x + y ) or (y > x + z) or (x > y + z):\n",
    "        print(\"No\")\n",
    "    else:\n",
    "        print(\"Yes\")\n",
    "    \n",
    "is_triangle(4, 2, 12)\n",
    "\n",
    "\"\"\"\n",
    "Book Solution\n",
    "def is_triangle(a, b, c):\n",
    "    if a > b + c:\n",
    "        print('No')\n",
    "    elif b > a + c:\n",
    "        print('No')\n",
    "    elif c > a + b:\n",
    "        print('No')\n",
    "    else:\n",
    "        print('Yes')\n",
    "\"\"\""
   ]
  },
  {
   "cell_type": "markdown",
   "id": "21f4fee6",
   "metadata": {},
   "source": [
    "3. What is the output of the following program? Draw a stack diagram that\n",
    "shows the state of the program when it prints the result."
   ]
  },
  {
   "cell_type": "code",
   "execution_count": null,
   "id": "32c6f9d8",
   "metadata": {},
   "outputs": [],
   "source": [
    "def recurse(n, s):\n",
    "    if n == 0:\n",
    "        print(s)\n",
    "    else:\n",
    "        recurse(n-1, n+s)\n",
    "\n",
    "recurse(3, 0)"
   ]
  },
  {
   "cell_type": "code",
   "execution_count": null,
   "id": "181f6c3c",
   "metadata": {},
   "outputs": [],
   "source": [
    "# from diagram import make_frame, Stack\n",
    "# from diagram import diagram, adjust\n",
    "\n",
    "# frames = []\n",
    "# for n in [3,2,1,0]:\n",
    "#     d = dict(n=n, s=6-sum(range(n+1)))\n",
    "#     frame = make_frame(d, name='recurse', dx=1.0, loc='left')\n",
    "#     frames.append(frame)\n",
    "\n",
    "# stack = Stack(frames, dy=-0.5)\n",
    "\n",
    "# width, height, x, y = [2.49, 2.04, 0.81, 1.77]\n",
    "# ax = diagram(width, height)\n",
    "# bbox = stack.draw(ax, x, y)\n",
    "# # adjust(x, y, bbox)"
   ]
  },
  {
   "cell_type": "markdown",
   "id": "fb448319",
   "metadata": {},
   "source": [
    "4. The following exercises use the `jupyturtle` module, described in Chapter 4 \n",
    "\n",
    "\tRead the following function and see if you can figure out what it does.\n",
    "\tThen run it and see if you got it right.\n",
    "\tAdjust the values of `length`, `angle` and `factor` and see what effect they have on the result.\n",
    "\tIf you are not sure you understand how it works, try asking a virtual assistant."
   ]
  },
  {
   "cell_type": "code",
   "execution_count": null,
   "id": "8da385fd",
   "metadata": {},
   "outputs": [],
   "source": [
    "# from jupyturtle import forward, left, right, back, make_turtle\n",
    "\n",
    "# def draw(length):\n",
    "#     angle = 90\n",
    "#     factor = 0.6\n",
    "\n",
    "#     if length > 5:\n",
    "#         forward(length)\n",
    "#         left(angle)\n",
    "#         draw(factor * length)\n",
    "#         right(2 * angle)\n",
    "#         draw(factor * length)\n",
    "#         left(angle)\n",
    "#         back(length)\n",
    "        \n",
    "# make_turtle(delay=0)\n",
    "# draw(50)"
   ]
  },
  {
   "cell_type": "markdown",
   "id": "642338f2",
   "metadata": {},
   "source": [
    "5. Ask a virtual assistant \"What is the Koch curve?\"\n",
    "\n",
    "\tTo draw a Koch curve with length `x`, all you\n",
    "\thave to do is\n",
    "\n",
    "\t1.  Draw a Koch curve with length `x/3`.\n",
    "\n",
    "\t2.  Turn left 60 degrees.\n",
    "\n",
    "\t3.  Draw a Koch curve with length `x/3`.\n",
    "\n",
    "\t4.  Turn right 120 degrees.\n",
    "\n",
    "\t5.  Draw a Koch curve with length `x/3`.\n",
    "\n",
    "\t6.  Turn left 60 degrees.\n",
    "\n",
    "\t7.  Draw a Koch curve with length `x/3`.\n",
    "\n",
    "\tThe exception is if `x` is less than `5` -- in that case, you can just draw a straight line with length `x`.\n",
    "\n",
    "\tWrite a function called `koch` that takes `x` as an argument and draws a Koch curve with the given length.\n"
   ]
  },
  {
   "cell_type": "code",
   "execution_count": null,
   "id": "91c063db",
   "metadata": {},
   "outputs": [],
   "source": [
    "# from jupyturtle import forward, left, right, back\n",
    "\n",
    "# def koch(x):\n",
    "#     length = x\n",
    "#     curve = length/3\n",
    "#     angle = 60\n",
    "    \n",
    "#     if x < 5:\n",
    "#         forward(length)\n",
    "#     else:\n",
    "#         koch(curve)\n",
    "#         left(angle)\n",
    "#         koch(curve)\n",
    "#         right(angle * 2)\n",
    "#         koch(curve)\n",
    "#         left(angle)\n",
    "#         koch(curve)\n",
    "        \n",
    "# make_turtle(delay=0, height=300)\n",
    "# for i in range(3):\n",
    "#     koch(120)\n",
    "#     right(120)"
   ]
  },
  {
   "cell_type": "markdown",
   "id": "aed98436",
   "metadata": {},
   "source": [
    "6. Virtual assistants know about the functions in the `jupyturtle` module, but \tthere are many versions of these functions, with different names, so a VA might not know which one you are talking about.\n",
    "\n",
    "\tTo solve this problem, you can provide additional information before you ask a question.\n",
    "\tFor example, you could start a prompt with \"Here's a program that uses the `jupyturtle` module,\" and then paste in one of the examples from this chapter.\n",
    "\tAfter that, the VA should be able to generate code that uses this module.\n",
    "\n",
    "\tAs an example, ask a VA for a program that draws a Sierpiński triangle.\n",
    "\tThe code you get should be a good starting place, but you might have to do some debugging.\n",
    "\tIf the first attempt doesn't work, you can tell the VA what happened and ask for help -- or you can debug it yourself."
   ]
  },
  {
   "cell_type": "code",
   "execution_count": null,
   "id": "04ea9edb",
   "metadata": {},
   "outputs": [],
   "source": [
    "# # Solution goes here\n",
    "# from jupyturtle import forward, left, right, back, make_turtle\n",
    "\n",
    "# def sierpinski(length, depth):\n",
    "#     if depth == 0:\n",
    "#         for _ in range(3):\n",
    "#             forward(length)\n",
    "#             left(120)\n",
    "#     else:\n",
    "#         sierpinski(length/2, depth-1)\n",
    "#         forward(length/2)\n",
    "#         sierpinski(length/2, depth-1)\n",
    "#         back(length/2)\n",
    "#         left(60)\n",
    "#         forward(length/2)\n",
    "#         right(60)\n",
    "#         sierpinski(length/2, depth-1)\n",
    "#         left(60)\n",
    "#         back(length/2)\n",
    "#         right(60)\n",
    "\n",
    "# make_turtle(height=200)\n",
    "# sierpinski(100, 3)"
   ]
  }
 ],
 "metadata": {
  "kernelspec": {
   "display_name": ".venv",
   "language": "python",
   "name": "python3"
  },
  "language_info": {
   "codemirror_mode": {
    "name": "ipython",
    "version": 3
   },
   "file_extension": ".py",
   "mimetype": "text/x-python",
   "name": "python",
   "nbconvert_exporter": "python",
   "pygments_lexer": "ipython3",
   "version": "3.12.3"
  }
 },
 "nbformat": 4,
 "nbformat_minor": 5
}
