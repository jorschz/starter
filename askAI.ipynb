{
 "cells": [
  {
   "cell_type": "markdown",
   "id": "beaaeb2d",
   "metadata": {},
   "source": [
    "## Ask the AI"
   ]
  },
  {
   "cell_type": "markdown",
   "id": "bf30a33e",
   "metadata": {},
   "source": [
    "\n",
    "**bitwise:**\n",
    "operadores bitwise (bit a bit) são usados para operações diretamente nos bits de numeros inteiros. Uteis em programação de baixo nivel, manipulação de hardware e otimizações. `7 ^ 2 = 5` -> `0111 XOR 0010 = 0101`\n",
    "\n",
    "**order of operations:**\n",
    "[Descreve a ordem em que operações são feitas](https://www.w3schools.com/python/python_operators.asp#:~:text=Try%20it%20%C2%BB-,Operator%20Precedence,-Operator%20precedence%20describes)\n",
    "\n",
    "**Arredontamento:**\n",
    "O python, quando o numero é .5, vai arrendondar usando o arredondamento bancario, ou seja, arredonta para o numero par mais proximo.\n",
    "\n",
    "**keyword:**\n",
    "Como class são fundamentais para o interpretador, ele tme que identificar sme ambiguidade essas keywords. É ruim usar `int`, `float`, e `str` como tipos, mesmo podendo, por ser \"builty-in\" pelo mesmo motivo anteriormente falado.\n",
    "\n",
    "**`;` ou `.`:** Usar um desses no final de um statement. `;` é opcional mas raramente usado e não recomendado para separar multiplos statements nas mesma linha; `.` causa erro de sintaxe\n",
    "\n",
    "**Built-in Functions:**\n",
    "São funcções pre-definidas que estã sempre disponiveis, sem a necessidade de importar modulos adicionais \n",
    "\n",
    "**modulo math**: Tem uma variedade de constantes matematicas e funções para operações avançadas. Alguns exemplos: `math.pi`, `e`, `tau`, `inf`, `man` <br>\n",
    "Importante, o math não suporta numeros complexos, se usa o `cmath` par isso\n",
    "\n",
    "**print function:** has the parameters `print(*objects, sep=' ', end='\\n', file=None, flush=False)`. A ordem não importa com argumentos nomeados.\n",
    "\n",
    "**tab vs spaces:** Python sempre usa 4 spaces para a itendation o tab é seguro de usar mas alguns editores ou lugares pode não estar configurado certo.\n",
    "\n"
   ]
  }
 ],
 "metadata": {
  "kernelspec": {
   "display_name": ".venv",
   "language": "python",
   "name": "python3"
  },
  "language_info": {
   "codemirror_mode": {
    "name": "ipython",
    "version": 3
   },
   "file_extension": ".py",
   "mimetype": "text/x-python",
   "name": "python",
   "nbconvert_exporter": "python",
   "pygments_lexer": "ipython3",
   "version": "3.12.3"
  }
 },
 "nbformat": 4,
 "nbformat_minor": 5
}
